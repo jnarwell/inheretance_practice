{
 "cells": [
  {
   "cell_type": "markdown",
   "metadata": {},
   "source": [
    "#### Exercise 1 - Class Inheritance"
   ]
  },
  {
   "cell_type": "markdown",
   "metadata": {},
   "source": [
    "Create an Employee class that sets an employee's first name, last name, job title, salary, and email. The Employee class should have a class attribute for the raise amount set to 5% (1.05). Create a method that will apply the raise to an employee's salary."
   ]
  },
  {
   "cell_type": "code",
   "execution_count": 12,
   "metadata": {},
   "outputs": [
    {
     "name": "stdout",
     "output_type": "stream",
     "text": [
      "John Lee - Operations Manager, $88200.0 - jlee@company.com\n"
     ]
    }
   ],
   "source": [
    "class Employee():\n",
    "    def __init__(self, fname, lname, title, salary):\n",
    "        self.fname = fname.title()\n",
    "        self.lname = lname.title()\n",
    "        self.title = title.title()\n",
    "        self.salary = salary\n",
    "        self.email = f'{self.fname[0].lower()}{self.lname.lower()}@company.com'\n",
    "        self.raise_amount = 0.05\n",
    "        \n",
    "    def __str__(self):\n",
    "        return f'{self.fname} {self.lname} - {self.title}, ${self.salary} - {self.email}'\n",
    "    \n",
    "    def get_raise(self):\n",
    "        self.salary *= (1+self.raise_amount)\n",
    "        return self.salary\n",
    "\n",
    "john = Employee('john', 'lee', 'operations manager', 80000)\n",
    "john.get_raise()\n",
    "print(john)"
   ]
  },
  {
   "cell_type": "markdown",
   "metadata": {},
   "source": [
    "Create two more classes that inherit from the Employee class. One for Sales and one for Development. Both of these classes will have the same attributes as the Employee.<br>\n",
    "- For the Sales employees, add a phone number attribute on instantiation using the super method. \n",
    "- Create a method on the Sales class that will Send a Follow Up Email. It should take in a customer name and \"send\" aka print a formatted email \"Dear *customer*, Thank you for your interest in our product. Please let me know if you have any questions. My email is *email* or my phone number is *phone number*. Thanks, *full name*\"\n",
    "- Create a method on the Development class called code that will print out \"*full name* is writing code\"."
   ]
  },
  {
   "cell_type": "code",
   "execution_count": 43,
   "metadata": {},
   "outputs": [
    {
     "name": "stdout",
     "output_type": "stream",
     "text": [
      "Dear Mike O'Neil, Thank you for your interest in our product. Please let me know if you have any questions. My email is ljohnson@company.com or my phone number is 4157022093. Thanks, Larry Johnson\n",
      "Dear Hannah Stern, Thank you for your interest in our product. Please let me know if you have any questions. My email is ljohnson@company.com or my phone number is 4157022093. Thanks, Larry Johnson\n",
      "52500.0\n"
     ]
    }
   ],
   "source": [
    "class Sales(Employee):\n",
    "    def __init__(self, num, fname, lname, title='sales associate', salary=50000):\n",
    "        self.num = num\n",
    "        super().__init__(fname, lname, title, salary)\n",
    "        \n",
    "    def follow_up(self, recipient):\n",
    "        print (f'Dear {recipient.title()}, Thank you for your interest in our product. Please let me know if you have any questions. My email is {self.email} or my phone number is {self.num}. Thanks, {self.fname} {self.lname}')\n",
    "\n",
    "class Development(Employee):\n",
    "    def __init__(self, fname, lname, title='development engineer', salary=100000):\n",
    "        super().__init__(fname, lname, title, salary)\n",
    "        \n",
    "    def code(self):\n",
    "        print(f'{self.fname} {self.lname} is writing code')\n",
    "        \n",
    "larry = Sales(4157022093, 'larry', 'johnson')\n",
    "larry.follow_up('Mike O\\'Neil')\n",
    "larry.follow_up('Hannah Stern')\n",
    "larry.get_raise()\n",
    "print(larry.salary)"
   ]
  },
  {
   "cell_type": "markdown",
   "metadata": {},
   "source": [
    "- Create an instance of a Sales Employee with a salary of $50,000.\n",
    "- Send follow up emails to \"Mike O'Neil\" and \"Hannah Stern\"\n",
    "- Give the employee a raise and print the salary"
   ]
  },
  {
   "cell_type": "code",
   "execution_count": 45,
   "metadata": {},
   "outputs": [
    {
     "name": "stdout",
     "output_type": "stream",
     "text": [
      "Monica Antwerp is writing code\n",
      "63000.0\n"
     ]
    }
   ],
   "source": [
    "monica = Development('monica', 'antwerp')\n",
    "monica.code()\n",
    "monica.get_raise()\n",
    "print(monica.salary)"
   ]
  },
  {
   "cell_type": "markdown",
   "metadata": {},
   "source": [
    "- Create an instance of a Development Employee with a salary of $100,000\n",
    "- Write some code with this employee\n",
    "- Give the employee a raise and print the salary"
   ]
  },
  {
   "cell_type": "code",
   "execution_count": null,
   "metadata": {},
   "outputs": [],
   "source": []
  },
  {
   "cell_type": "markdown",
   "metadata": {},
   "source": [
    "#### Exercise 2 - Importing Modules"
   ]
  },
  {
   "cell_type": "markdown",
   "metadata": {},
   "source": [
    "In VS Code, create a module titled `geometry` and add two functions in there. One that will calculate the area of a circle given a radius. The second will find the hypotenuse of a right angle given the two sides. Import the module or the functions from the module and use it to find the answers to the below questions"
   ]
  },
  {
   "cell_type": "markdown",
   "metadata": {},
   "source": [
    "What is the area of a circle with a radius of 7cm?"
   ]
  },
  {
   "cell_type": "code",
   "execution_count": 65,
   "metadata": {},
   "outputs": [
    {
     "name": "stdout",
     "output_type": "stream",
     "text": [
      "153.93804002589985cm\n",
      "5.0in\n"
     ]
    }
   ],
   "source": [
    "import geometry as geo\n",
    "\n",
    "print(str(geo.area(7))+'cm')\n",
    "print(str(geo.hypotonuse(3,4))+'in')"
   ]
  },
  {
   "cell_type": "markdown",
   "metadata": {},
   "source": [
    "What is the hypotenuse of a right angle with sides of 3in and 4in?"
   ]
  },
  {
   "cell_type": "code",
   "execution_count": null,
   "metadata": {},
   "outputs": [],
   "source": []
  }
 ],
 "metadata": {
  "kernelspec": {
   "display_name": "Python 3 (ipykernel)",
   "language": "python",
   "name": "python3"
  },
  "language_info": {
   "codemirror_mode": {
    "name": "ipython",
    "version": 3
   },
   "file_extension": ".py",
   "mimetype": "text/x-python",
   "name": "python",
   "nbconvert_exporter": "python",
   "pygments_lexer": "ipython3",
   "version": "3.10.9"
  }
 },
 "nbformat": 4,
 "nbformat_minor": 4
}
